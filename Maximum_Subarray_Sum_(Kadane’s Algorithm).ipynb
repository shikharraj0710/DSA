{
 "cells": [
  {
   "cell_type": "markdown",
   "id": "0e0e0830",
   "metadata": {},
   "source": [
    "## Problem:\n",
    "Given an array of integers (both positive and negative), find the contiguous subarray with the maximum sum."
   ]
  },
  {
   "cell_type": "code",
   "execution_count": 4,
   "id": "84cd2ee9",
   "metadata": {},
   "outputs": [],
   "source": [
    "Input = [-2, 1, -3, 4, -1, 2, 1, -5, 4]\n",
    "Output = 6   # Subarray: [4, -1, 2, 1]"
   ]
  },
  {
   "cell_type": "markdown",
   "id": "2710c7d0",
   "metadata": {},
   "source": [
    "- Iterate through array. At each index, decide:\n",
    "    - Either extend the previous subarray (curr_sum + num)\n",
    "    - Or start a new subarray from current number (num)\n",
    "    - Track the max sum so far."
   ]
  },
  {
   "cell_type": "markdown",
   "id": "2214a544",
   "metadata": {},
   "source": [
    "### Step-by-step Example: Kadane's Algorithm\n",
    "Let's walk through the array: `[-2, 1, -3, 4, -1, 2, 1, -5, 4]`\n",
    "1. Start with the first element:\n",
    "   - `current_sum = max_sum = -2`\n",
    "2. Move to the next element (1):\n",
    "   - `current_sum = max(1, -2 + 1) = 1`\n",
    "   - `max_sum = max(-2, 1) = 1`\n",
    "3. Next element (-3):\n",
    "   - `current_sum = max(-3, 1 + (-3)) = max(-3, -2) = -2`\n",
    "   - `max_sum = max(1, -2) = 1`\n",
    "4. Next element (4):\n",
    "   - `current_sum = max(4, -2 + 4) = 4`\n",
    "   - `max_sum = max(1, 4) = 4`\n",
    "5. Next element (-1):\n",
    "   - `current_sum = max(-1, 4 + (-1)) = max(-1, 3) = 3`\n",
    "   - `max_sum = max(4, 3) = 4`\n",
    "6. Next element (2):\n",
    "   - `current_sum = max(2, 3 + 2) = max(2, 5) = 5`\n",
    "   - `max_sum = max(4, 5) = 5`\n",
    "7. Next element (1):\n",
    "   - `current_sum = max(1, 5 + 1) = max(1, 6) = 6`\n",
    "   - `max_sum = max(5, 6) = 6`\n",
    "8. Next element (-5):\n",
    "   - `current_sum = max(-5, 6 + (-5)) = max(-5, 1) = 1`\n",
    "   - `max_sum = max(6, 1) = 6`\n",
    "9. Last element (4):\n",
    "   - `current_sum = max(4, 1 + 4) = max(4, 5) = 5`\n",
    "   - `max_sum = max(6, 5) = 6`\n",
    "\n",
    "**Final Answer:** The maximum subarray sum is `6` (from subarray `[4, -1, 2, 1]`)."
   ]
  },
  {
   "cell_type": "code",
   "execution_count": 6,
   "id": "d5f4b27a",
   "metadata": {},
   "outputs": [
    {
     "name": "stdout",
     "output_type": "stream",
     "text": [
      "6\n"
     ]
    }
   ],
   "source": [
    "def MaxSum(arr):\n",
    "    max_sum = arr[0]\n",
    "    curr_sum = arr[0]\n",
    "\n",
    "    for i in range(1, len(arr)):\n",
    "        curr_sum = max(arr[i], curr_sum + arr[i])\n",
    "        max_sum = max(max_sum, curr_sum)\n",
    "\n",
    "    return max_sum\n",
    "\n",
    "print(MaxSum([-2, 1, -3, 4, -1, 2, 1, -5, 4]))"
   ]
  }
 ],
 "metadata": {
  "kernelspec": {
   "display_name": ".venv",
   "language": "python",
   "name": "python3"
  },
  "language_info": {
   "codemirror_mode": {
    "name": "ipython",
    "version": 3
   },
   "file_extension": ".py",
   "mimetype": "text/x-python",
   "name": "python",
   "nbconvert_exporter": "python",
   "pygments_lexer": "ipython3",
   "version": "3.12.10"
  }
 },
 "nbformat": 4,
 "nbformat_minor": 5
}
