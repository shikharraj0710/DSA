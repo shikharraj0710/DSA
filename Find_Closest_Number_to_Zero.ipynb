{
 "cells": [
  {
   "cell_type": "markdown",
   "id": "cdb0916b",
   "metadata": {},
   "source": [
    "# Find Closest Number to Zero\n",
    " \n",
    "## Problem Statement\n",
    "Given an array of integers, find and return the number that is closest to zero. If there are two numbers equally close to zero (for example, -2 and 2), return the positive number.\n",
    "\n",
    "### Example\n",
    "- Input: `[7, -10, 13, 8, 4, -7, -2, -3]`  \n",
    "  Output: `-2`\n",
    "- Input: `[5, 2, -2, 3]`  \n",
    "  Output: `2`\n",
    "- Input: `[1, -1, 2, -2]`  \n",
    "  Output: `1`\n",
    "\n",
    "### Approach\n",
    "- Iterate through the array and compare the absolute values of each element to the current closest value.\n",
    "- If a number is closer to zero, update the closest value.\n",
    "- If two numbers are equally close, choose the positive one.\n",
    "\n",
    "This notebook contains a Python function that implements this logic."
   ]
  },
  {
   "cell_type": "code",
   "execution_count": 7,
   "id": "e9ab7167",
   "metadata": {},
   "outputs": [
    {
     "name": "stdout",
     "output_type": "stream",
     "text": [
      "2\n"
     ]
    }
   ],
   "source": [
    "from typing import List\n",
    "\n",
    "\n",
    "def solution(arr: List[int]) -> int:\n",
    "    closest = arr[0]\n",
    "\n",
    "    for i in range(1, len(arr)):\n",
    "        curr = arr[i]\n",
    "        if abs(closest) > abs(curr):\n",
    "            closest = curr\n",
    "        elif abs(curr) == abs(closest) and curr > closest:\n",
    "            closest = curr\n",
    "\n",
    "    return closest\n",
    "\n",
    "print(solution([7, -10, 13, 8, 4, -7, -2, -3, 2]))"
   ]
  },
  {
   "cell_type": "markdown",
   "id": "309b3798",
   "metadata": {},
   "source": [
    "## Code without abs()"
   ]
  },
  {
   "cell_type": "code",
   "execution_count": 10,
   "id": "e502fea9",
   "metadata": {},
   "outputs": [
    {
     "name": "stdout",
     "output_type": "stream",
     "text": [
      "2\n"
     ]
    }
   ],
   "source": [
    "def solution(arr: List[int]) -> int:\n",
    "    closest = arr[0]\n",
    "\n",
    "    for i in range(1, len(arr)):\n",
    "        curr = arr[i]\n",
    "\n",
    "        if closest * closest > curr * curr:\n",
    "            closest = curr\n",
    "        elif closest * closest == curr * curr and curr > closest:\n",
    "            closest = curr\n",
    "\n",
    "    return closest\n",
    "\n",
    "print(solution([7, -10, 13, 8, 4, -7, -2, -3, 2]))"
   ]
  },
  {
   "cell_type": "markdown",
   "id": "b7944910",
   "metadata": {},
   "source": [
    "This works because:\n",
    "- abs(x) is equivalent to x*x when comparing distance\n",
    "- We compare squares to avoid calling abs()"
   ]
  }
 ],
 "metadata": {
  "kernelspec": {
   "display_name": ".venv",
   "language": "python",
   "name": "python3"
  },
  "language_info": {
   "codemirror_mode": {
    "name": "ipython",
    "version": 3
   },
   "file_extension": ".py",
   "mimetype": "text/x-python",
   "name": "python",
   "nbconvert_exporter": "python",
   "pygments_lexer": "ipython3",
   "version": "3.12.10"
  }
 },
 "nbformat": 4,
 "nbformat_minor": 5
}
