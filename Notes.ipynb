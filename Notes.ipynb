{
 "cells": [
  {
   "cell_type": "markdown",
   "metadata": {},
   "source": [
    "# Memory Management in Python\n",
    "[Link](https://realpython.com/python-memory-management/)"
   ]
  },
  {
   "cell_type": "markdown",
   "metadata": {},
   "source": [
    "**Cpython** - Default Python implementation written in the C programming language. \\\n",
    "\\\n",
    "CPython does two things. \n",
    "- First, it compiles your Python code down into what’s called bytecode.\n",
    "  - This is basically a giant list of instructions that’s hard for us humans to read but very easy for the computer to. \n",
    "  - If you’ve ever seen a .pyc file or a __pycache__ file near your Python code, this is the bytecode that was generated.\n",
    "- The bytecode is then run inside what is called the **Python Virtual Machine**. \n",
    "  - This is a special execution environment that reads in each line of bytecode and tells your computer how to carry out the associated operation. \n",
    "  - At the end of it all, you have a fully-functioning program."
   ]
  },
  {
   "cell_type": "markdown",
   "metadata": {},
   "source": [
    "**Why Everything in Python is an Object?**\n",
    "\n",
    "- You may have heard that everything in Python is an object, even types such as int and str. Well, it’s true on an implementation level in CPython. \n",
    "- There is a `struct` called a `PyObject`, which every other object in CPython uses."
   ]
  },
  {
   "cell_type": "markdown",
   "metadata": {},
   "source": [
    "**PyObject**\n",
    "- The PyObject, the grand-daddy of all objects in Python, contains only two things:\n",
    "  - *ob_refcnt*: reference count (used for garbage collection)\n",
    "  - *ob_type*: pointer to another type (dict or int)"
   ]
  },
  {
   "cell_type": "markdown",
   "metadata": {},
   "source": [
    "**How Deallocation Happens?**\n",
    "\n",
    "- Remember that every object in Python has a reference count and a pointer to a type.\n",
    "- The reference count gets increased for a few different reasons. \n",
    "- For example, the reference count will increase \n",
    "   - if you assign it to another variable\n",
    "   - if you pass the object as an argument\n",
    "   - if you include the object in a list\n",
    "- Python allows you to inspect the current reference count of an object with the `sys module`. \n",
    "   - You can use `sys.getrefcount(numbers)`, but keep in mind that passing in the object to getrefcount() increases the reference count by 1.\n",
    "- In any case, if the object is still required to hang around in your code, its reference count is greater than 0. \n",
    "- Once it drops to 0, the object has a specific deallocation function that is called which “frees” the memory so that other objects can use it."
   ]
  },
  {
   "cell_type": "markdown",
   "metadata": {},
   "source": [
    "**Global Interpreter Lock (GIL)** [Link](https://realpython.com/python-gil/)\n",
    "\n",
    "- The GIL is a solution to the common problem of dealing with shared resources, like memory in a computer. \n",
    "- When two threads try to modify the same resource at the same time, they can step on each other’s toes.\n",
    "- The end result can be a garbled mess where neither of the threads ends up with what they wanted.\n",
    "- Python’s GIL accomplishes this by locking the entire interpreter, meaning that it’s not possible for another thread to step on the current one. \n",
    "- When CPython handles memory, it uses the GIL to ensure that it does so safely.\n",
    "- The GIL is a single lock on the **interpreter itself** which adds a rule that execution of any Python bytecode requires acquiring the interpreter lock. \n",
    "- This prevents deadlocks (as there is only one lock) and doesn’t introduce much performance overhead. But it effectively makes any **CPU-bound Python program single-threaded.**"
   ]
  }
 ],
 "metadata": {
  "kernelspec": {
   "display_name": "Python 3",
   "language": "python",
   "name": "python3"
  },
  "language_info": {
   "codemirror_mode": {
    "name": "ipython",
    "version": 3
   },
   "file_extension": ".py",
   "mimetype": "text/x-python",
   "name": "python",
   "nbconvert_exporter": "python",
   "pygments_lexer": "ipython3",
   "version": "3.12.2"
  }
 },
 "nbformat": 4,
 "nbformat_minor": 2
}
