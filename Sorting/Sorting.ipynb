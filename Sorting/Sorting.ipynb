{
 "cells": [
  {
   "cell_type": "markdown",
   "metadata": {},
   "source": [
    "# Sortings\n",
    "\n",
    "### Best-Case Time Complexity\n",
    "- This is the scenario where the algorithm performs the fewest operations.\n",
    "\n",
    "### Average-Case Time Complexity\n",
    "- The average-case time complexity provides an expectation of the algorithm's behavior over all possible inputs.\n",
    "\n",
    "###  Worst-Case Time Complexity\n",
    "- This is the scenario where the algorithm performs the maximum number of operations"
   ]
  },
  {
   "cell_type": "code",
   "execution_count": 6,
   "metadata": {},
   "outputs": [],
   "source": [
    "from typing import List\n",
    "\n",
    "def swap(i, j, arr):\n",
    "    arr[i], arr[j] = arr[j], arr[i]"
   ]
  },
  {
   "cell_type": "markdown",
   "metadata": {},
   "source": [
    "# Normal Sort"
   ]
  },
  {
   "cell_type": "code",
   "execution_count": 6,
   "metadata": {},
   "outputs": [
    {
     "name": "stdout",
     "output_type": "stream",
     "text": [
      "[-8, -1, 0, 5, 7, 17, 58, 78, 90, 90, 100]\n"
     ]
    }
   ],
   "source": [
    "arr = [17, -1, 100, 58, 5, 78, -8, 7, 90, 90, 0]\n",
    "n = len(arr)\n",
    "\n",
    "def NormalSort(arr):\n",
    "    for i in range(0, n):\n",
    "        for j in range(i + 1, n):\n",
    "            if arr[i] > arr[j]:\n",
    "                swap(i, j, arr)\n",
    "            \n",
    "NormalSort(arr)\n",
    "print(arr)"
   ]
  },
  {
   "cell_type": "markdown",
   "metadata": {},
   "source": [
    "# Bubble Sort   \n",
    "- Bubble Sort repeatedly steps through the list, compares adjacent elements, and swaps them if they are in the wrong order. The process is repeated until the list is sorted.\n",
    "\n",
    "*Best Case - O(n)*\n",
    "- Occurs when the array is already sorted.\n",
    "\n",
    "*Average  Case - O(n2)*\n",
    "- Occurs when the elements are in random order.\n",
    "\n",
    "*Worst Case - O(n2)*\n",
    "- Occurs when the array is sorted in reverse order."
   ]
  },
  {
   "cell_type": "code",
   "execution_count": 7,
   "metadata": {},
   "outputs": [
    {
     "name": "stdout",
     "output_type": "stream",
     "text": [
      "[-9, -8, -1, 0, 5, 5, 7, 17, 58, 78, 90, 100]\n"
     ]
    }
   ],
   "source": [
    "arr = [17, -1, 100, 58, 5, 78, -8, 7, 90, 0, 5, -9]\n",
    "n = len(arr)\n",
    "\n",
    "def BubbleSort(arr):\n",
    "    for i in range(0, n):\n",
    "        swapped = False\n",
    "        for j in range(0, n - i - 1):\n",
    "            if arr[j] > arr[j + 1]:\n",
    "                swap(j, j + 1, arr)\n",
    "                swapped = True\n",
    "\n",
    "        if swapped == False:\n",
    "            break\n",
    "\n",
    "BubbleSort(arr)\n",
    "print(arr)"
   ]
  },
  {
   "cell_type": "markdown",
   "metadata": {},
   "source": [
    "# Selection Sort\n",
    "- Selection Sort repeatedly selects the smallest (or largest) element from the unsorted portion of the list and moves it to the beginning.\n",
    "\n",
    "*Best Case - O(n2)*\n",
    "- The algorithm always scans the entire unsorted portion to find the minimum element, regardless of the initial order of elements.\n",
    "\n",
    "*Average  Case - O(n2)*\n",
    "- The average number of comparisons remains the same because the algorithm's structure does not change with the input order.\n",
    "\n",
    "*Worst Case - O(n2)*\n",
    "- The algorithm always performs the same number of comparisons."
   ]
  },
  {
   "cell_type": "code",
   "execution_count": 8,
   "metadata": {},
   "outputs": [
    {
     "name": "stdout",
     "output_type": "stream",
     "text": [
      "[-8, -1, 0, 5, 5, 7, 17, 58, 78, 90, 100]\n"
     ]
    }
   ],
   "source": [
    "arr = [17, -1, 100, 58, 5, 78, -8, 7, 90, 0, 5]\n",
    "n = len(arr)\n",
    "\n",
    "def SelectionSort(arr):\n",
    "    for i in range(0, n):\n",
    "        minimum = i\n",
    "        for j in range(i + 1, n):\n",
    "            if arr[j] < arr[minimum]:\n",
    "                minimum = j\n",
    "        swap(minimum, i, arr)\n",
    "\n",
    "SelectionSort(arr)\n",
    "print(arr)"
   ]
  },
  {
   "cell_type": "markdown",
   "metadata": {},
   "source": [
    "# Insertion Sort\n",
    "- Insertion Sort builds the final sorted array one item at a time by comparing the current element with those in the sorted portion of the list and inserting it in the correct position.\n",
    "\n",
    "*Best Case - O(n)*\n",
    "- Occurs when the array is already sorted.\n",
    "- The algorithm simply scans through the array without making any moves, as each element is already in its correct position.\n",
    "\n",
    "*Average  Case - O(n2)*\n",
    "- Occurs when the elements are in random order.\n",
    "- On average, each element needs to be compared with half of the sorted portion.\n",
    "\n",
    "*Worst Case - O(n2)*\n",
    "- Occurs when the array is sorted in reverse order.\n",
    "- Every element has to be compared with all the elements in the sorted portion, requiring the maximum number of comparisons and shifts."
   ]
  },
  {
   "cell_type": "code",
   "execution_count": 9,
   "metadata": {},
   "outputs": [
    {
     "name": "stdout",
     "output_type": "stream",
     "text": [
      "[-9, -8, -1, 0, 5, 5, 7, 17, 58, 78, 90, 100]\n"
     ]
    }
   ],
   "source": [
    "arr = [17, -1, 100, 58, 5, 78, -8, 7, 90, 0, 5, -9]\n",
    "n = len(arr)\n",
    "\n",
    "def InsertionSort(arr):\n",
    "    for i in range(1, n):\n",
    "        j = i - 1\n",
    "        current = arr[i]\n",
    "        while j >= 0 and current < arr[j]:\n",
    "            arr[j + 1] = arr[j]\n",
    "            j = j - 1\n",
    "        arr[j + 1] = current\n",
    "    \n",
    "InsertionSort(arr)\n",
    "print(arr)"
   ]
  },
  {
   "cell_type": "markdown",
   "metadata": {},
   "source": [
    "# Merge Sort\n",
    "- Merge Sort is a divide-and-conquer algorithm that divides the list into halves, recursively sorts each half, and then merges the sorted halves back together.\n",
    "\n",
    "*Best Case - O(n log n)*\n",
    "- Because the algorithm always divides the array and merges it in the same manner, regardless of the initial order.\n",
    "\n",
    "*Average  Case - O(n log n)*\n",
    "- Because the process of dividing and merging is consistent.\n",
    "\n",
    "*Worst Case - O(n log n)*\n",
    "- Because even in the worst case, the algorithm performs the same divide-and-conquer steps.\n"
   ]
  },
  {
   "cell_type": "code",
   "execution_count": 12,
   "metadata": {},
   "outputs": [
    {
     "name": "stdout",
     "output_type": "stream",
     "text": [
      "[-9, -8, -3, -1, 0, 5, 5, 7, 17, 58, 78, 90, 100]\n"
     ]
    }
   ],
   "source": [
    "arr = [17, -1, 100, 58, 5, 78, -8, 7, 90, 0, 5, -9, -3]\n",
    "\n",
    "def partition(arr: List[int]):\n",
    "    length = len(arr)\n",
    "\n",
    "    if length < 2: \n",
    "        return\n",
    "\n",
    "    midpoint = length // 2\n",
    "    leftArray = [None] * midpoint\n",
    "    rightArray = [None] * (length - midpoint)\n",
    "\n",
    "    for i in range(0, midpoint):\n",
    "        leftArray[i] = arr[i]\n",
    "    \n",
    "    for j in range(midpoint, length):\n",
    "        rightArray[j - midpoint] = arr[j]\n",
    "    \n",
    "    partition(leftArray)\n",
    "    partition(rightArray)\n",
    "\n",
    "    merge(arr, leftArray, rightArray)\n",
    "\n",
    "def merge(arr, leftArray, rightArray):\n",
    "    leftSize = len(leftArray)\n",
    "    rightSize = len(rightArray)\n",
    "\n",
    "    i = j = k = 0\n",
    "\n",
    "    while(i < leftSize and j < rightSize):\n",
    "        if leftArray[i] <= rightArray[j]:\n",
    "            arr[k] = leftArray[i]\n",
    "            i = i + 1\n",
    "        else:\n",
    "            arr[k] = rightArray[j]\n",
    "            j = j + 1\n",
    "        k = k + 1\n",
    "\n",
    "    while i < leftSize:\n",
    "        arr[k] = leftArray[i]\n",
    "        i = i + 1\n",
    "        k = k + 1\n",
    "\n",
    "    while j < rightSize:\n",
    "        arr[k] = rightArray[j]\n",
    "        j = j + 1\n",
    "        k = k + 1\n",
    "\n",
    "partition(arr)\n",
    "print(arr)"
   ]
  },
  {
   "cell_type": "markdown",
   "metadata": {},
   "source": [
    "# Quick Sort\n",
    "\n",
    "**Algorithm**\n",
    "- ***Pivot Selection***\n",
    "  - A random pivot is selected using `random.randint(lowIndex, highIndex)`. The pivot element is then swapped with the last element in the current subarray (swap(pivotIndex, highIndex, arr)), ensuring that the pivot is at the end for easier partitioning.\n",
    "\n",
    "- ***Partitioning***\n",
    "  - It places elements smaller than or equal to the pivot on the left and elements greater than the pivot on the right.\n",
    "\n",
    "- ***Recursive Sorting:***\n",
    "  - After partitioning, the QuickSort function is recursively called on the left and right subarrays (elements before and after the pivot).\n",
    "\n",
    "**Time Complexity** \\\n",
    "\\\n",
    "*Best Case - O(n log n)*\n",
    "- Occurs when the pivot consistently divides the array into two nearly equal halves.\n",
    "- This leads to a balanced partitioning and efficient sorting.\n",
    "\n",
    "*Average  Case - O(n log n)*\n",
    "- On average, the pivot will divide the array into reasonably balanced halves.\n",
    "\n",
    "*Worst Case - O(n log n)*\n",
    "- Occurs when the pivot consistently results in the most unbalanced partitions, such as picking the smallest or largest element as the pivot in an already sorted array.\n",
    "- This leads to a situation where the algorithm performs very inefficiently, essentially reducing to a less efficient sorting method like Bubble Sort.\n",
    "\n"
   ]
  },
  {
   "cell_type": "code",
   "execution_count": 42,
   "metadata": {},
   "outputs": [
    {
     "name": "stdout",
     "output_type": "stream",
     "text": [
      "[-9, -8, -3, -1, 0, 4, 5, 5, 7, 17, 58, 78, 90, 100]\n"
     ]
    }
   ],
   "source": [
    "import random\n",
    "\n",
    "arr = [17, -1, 100, 58, 5, 78, -8, 7, 90, 0, 5, -9, -3, 4]\n",
    "n = len(arr)\n",
    "\n",
    "def QuickSortPartition(arr, lowIndex, highIndex, pivot):\n",
    "    leftPointer = lowIndex\n",
    "    rightPointer = highIndex - 1\n",
    "\n",
    "    while(leftPointer < rightPointer):\n",
    "        while(arr[leftPointer] <= pivot and leftPointer < rightPointer):\n",
    "            leftPointer += 1\n",
    "        while(arr[rightPointer] >= pivot and leftPointer < rightPointer):\n",
    "            rightPointer -= 1\n",
    "        swap(leftPointer, rightPointer, arr)\n",
    "\n",
    "    if arr[highIndex] < arr[leftPointer]:\n",
    "        swap(leftPointer, highIndex, arr)\n",
    "    else: \n",
    "        leftPointer = highIndex\n",
    "\n",
    "    return leftPointer\n",
    "\n",
    "def QuickSort(arr, lowIndex, highIndex):\n",
    "    if lowIndex >= highIndex:\n",
    "        return\n",
    "    \n",
    "    pivotIndex = random.randint(lowIndex, highIndex)\n",
    "    pivot = arr[pivotIndex]\n",
    "    swap(pivotIndex, highIndex, arr)\n",
    "\n",
    "    leftPointer = QuickSortPartition(arr, lowIndex, highIndex, pivot)\n",
    "\n",
    "    QuickSort(arr, lowIndex, leftPointer - 1)\n",
    "    QuickSort(arr, leftPointer + 1, highIndex)\n",
    "   \n",
    "QuickSort(arr, 0, n - 1)\n",
    "print(arr)"
   ]
  }
 ],
 "metadata": {
  "kernelspec": {
   "display_name": "Python 3",
   "language": "python",
   "name": "python3"
  },
  "language_info": {
   "codemirror_mode": {
    "name": "ipython",
    "version": 3
   },
   "file_extension": ".py",
   "mimetype": "text/x-python",
   "name": "python",
   "nbconvert_exporter": "python",
   "pygments_lexer": "ipython3",
   "version": "3.12.2"
  }
 },
 "nbformat": 4,
 "nbformat_minor": 2
}
