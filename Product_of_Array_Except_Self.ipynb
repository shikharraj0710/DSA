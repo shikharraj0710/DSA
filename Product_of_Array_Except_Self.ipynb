{
 "cells": [
  {
   "cell_type": "markdown",
   "id": "74791e57",
   "metadata": {},
   "source": [
    "## Problem Statement: Product of Array Except Self\n",
    "Given an array of integers, return an array output such that output[i] is equal to the product of all the elements of the input array except nums[i].\n",
    "\n",
    "- Do not use division.\n",
    "- Solve in O(n) time and O(1) extra space (output array does not count as extra space).\n",
    "\n",
    "**Example:**\n",
    "Input: [1, 2, 3, 4]\n",
    "Output: [24, 12, 8, 6]\n",
    "## Explanation\n",
    "The solution uses two passes:\n",
    "\n",
    "1. **First Pass (Left to Right):**\n",
    "   - For each index, store the product of all elements to the left of that index (prefix product).\n",
    "2. **Second Pass (Right to Left):**\n",
    "   - Multiply each index by the product of all elements to the right of that index (suffix product).\n",
    "\n",
    "This way, for each position, you get the product of all elements except the one at that position, without using division and in O(n) time."
   ]
  },
  {
   "cell_type": "markdown",
   "id": "4ca46d52",
   "metadata": {},
   "source": [
    "### Step-by-Step Example:\n",
    "Suppose the input is: `[1, 2, 3, 4]`\n",
    "We want to return: `[24, 12, 8, 6]` because:\n",
    "- For index 0: 2 * 3 * 4 = 24\n",
    "- For index 1: 1 * 3 * 4 = 12\n",
    "- For index 2: 1 * 2 * 4 = 8\n",
    "- For index 3: 1 * 2 * 3 = 6\n",
    "\n",
    "#### How the code works:\n",
    "1. **First Pass (Left to Right):**\n",
    "   - We build a prefix product for each index (product of all elements to the left).\n",
    "   - Start with prefix = 1.\n",
    "   - For each index, set output[i] = prefix, then update prefix *= nums[i].\n",
    "   - After this pass, output = [1, 1, 2, 6] (for input [1,2,3,4]).\n",
    "\n",
    "2. **Second Pass (Right to Left):**\n",
    "   - We build a suffix product for each index (product of all elements to the right).\n",
    "   - Start with suffix = 1.\n",
    "   - For each index from right to left, multiply output[i] *= suffix, then update suffix *= nums[i].\n",
    "   - After this pass, output = [24, 12, 8, 6].\n",
    "\n",
    "**No division is used, and the solution is O(n) time and O(1) extra space (ignoring the output array).**"
   ]
  },
  {
   "cell_type": "code",
   "execution_count": 3,
   "id": "7ab15a64",
   "metadata": {},
   "outputs": [
    {
     "name": "stdout",
     "output_type": "stream",
     "text": [
      "[24, 12, 8, 6]\n"
     ]
    }
   ],
   "source": [
    "def product_except_self(nums):\n",
    "    n = len(nums)\n",
    "    output = [1] * n\n",
    "    prefix = 1\n",
    "\n",
    "    # Left to right → build prefix product\n",
    "    for i in range(n):\n",
    "        output[i] = prefix\n",
    "        prefix *= nums[i]\n",
    "\n",
    "    suffix = 1\n",
    "    # Right to left → multiply with suffix product\n",
    "    for i in range(n - 1, -1, -1):\n",
    "        output[i] *= suffix\n",
    "        suffix *= nums[i]\n",
    "\n",
    "    return output\n",
    "\n",
    "\n",
    "print(product_except_self([1, 2, 3, 4]))"
   ]
  }
 ],
 "metadata": {
  "kernelspec": {
   "display_name": ".venv",
   "language": "python",
   "name": "python3"
  },
  "language_info": {
   "codemirror_mode": {
    "name": "ipython",
    "version": 3
   },
   "file_extension": ".py",
   "mimetype": "text/x-python",
   "name": "python",
   "nbconvert_exporter": "python",
   "pygments_lexer": "ipython3",
   "version": "3.12.10"
  }
 },
 "nbformat": 4,
 "nbformat_minor": 5
}
