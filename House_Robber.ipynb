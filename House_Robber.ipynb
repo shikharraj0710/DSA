{
 "cells": [
  {
   "cell_type": "markdown",
   "id": "88e874f4",
   "metadata": {},
   "source": [
    "## Problem Statement\n",
    "\n",
    "You are given an array of non-negative integers, where each element represents the amount of money in a house. You cannot rob two adjacent houses (to avoid alerting the police). Find the maximum amount of money you can rob."
   ]
  },
  {
   "cell_type": "markdown",
   "id": "3818c7c3",
   "metadata": {},
   "source": [
    "### Example:\n",
    "For coins = [2, 7, 9, 3, 1],\n",
    "the maximum you can rob is `2 + 9 + 1 = 12` (houses 0, 2, and 4),\n",
    "but actually, the optimal is `7 + 9 + 1 = 17` is **not possible** because 7 and 9 are adjacent.\n",
    "**The correct answer is 2 + 9 + 1 = 12 or 7 + 3 = 10, but the code finds the best combination.**\n",
    "\n",
    "### How the Code Works\n",
    "#### Base Cases:\n",
    "\n",
    "- If there are no houses, return 0.\n",
    "- If there is only one house, return its value.\n",
    "- **Dynamic Programming Array**:\n",
    "max_loot[i] stores the maximum money that can be robbed from the first `i+1` houses.\n",
    "- Transition:\n",
    "    - For each house i (from 2 to n-1):\n",
    "    - Either skip the current house (`arr2[i-1]`)\n",
    "    - Or rob the current house and add its value to the best up to `i-2` (`arr[i] + arr2[i-2]`)\n",
    "    - Take the maximum of these two options.\n",
    "\n",
    "#### Result:\n",
    "The last element of arr2 contains the answer."
   ]
  },
  {
   "cell_type": "code",
   "execution_count": 1,
   "id": "6856b6f5",
   "metadata": {},
   "outputs": [
    {
     "name": "stdout",
     "output_type": "stream",
     "text": [
      "12\n"
     ]
    }
   ],
   "source": [
    "houses = [2, 7, 9, 3, 1]\n",
    "\n",
    "\n",
    "def max_robbed_amount(house_values):\n",
    "    n = len(house_values)\n",
    "    if n == 0:\n",
    "        return 0\n",
    "    if n == 1:\n",
    "        return house_values[0]\n",
    "\n",
    "    max_loot = [0] * n\n",
    "    max_loot[0] = house_values[0]\n",
    "    max_loot[1] = max(house_values[0], house_values[1])\n",
    "\n",
    "    for i in range(2, n):\n",
    "        max_loot[i] = max(max_loot[i - 1], house_values[i] + max_loot[i - 2])\n",
    "    return max_loot[-1]\n",
    "\n",
    "\n",
    "print(max_robbed_amount(houses))"
   ]
  },
  {
   "cell_type": "code",
   "execution_count": null,
   "id": "a42fed9b",
   "metadata": {},
   "outputs": [],
   "source": [
    "houses = [2, 7, 9, 3, 1]\n",
    "\n",
    "def max_robbed_amount(house_values):\n",
    "    n = len(house_values)\n",
    "    \n",
    "    if n == 0:\n",
    "        return 0\n",
    "    \n",
    "    if n == 1:\n",
    "        return house_values[0]\n",
    "    \n",
    "    max_amount_arr = [0] * n\n",
    "    max_amount_arr[0] = house_values[0]\n",
    "    max_amount_arr[1] = max(house_values[0], house_values[1])\n",
    "    \n",
    "    for i in range(2, n):\n",
    "        max_amount_arr[i] = max(max_amount_arr[i - 2] + max_amount_arr[i], max_amount_arr[i-1])"
   ]
  }
 ],
 "metadata": {
  "kernelspec": {
   "display_name": ".venv",
   "language": "python",
   "name": "python3"
  },
  "language_info": {
   "codemirror_mode": {
    "name": "ipython",
    "version": 3
   },
   "file_extension": ".py",
   "mimetype": "text/x-python",
   "name": "python",
   "nbconvert_exporter": "python",
   "pygments_lexer": "ipython3",
   "version": "3.12.10"
  }
 },
 "nbformat": 4,
 "nbformat_minor": 5
}
