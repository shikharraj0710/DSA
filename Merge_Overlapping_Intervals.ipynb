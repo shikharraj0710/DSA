{
 "cells": [
  {
   "cell_type": "markdown",
   "id": "8f620bdf",
   "metadata": {},
   "source": [
    "# 🧩 Merge Overlapping Intervals\n",
    "\n",
    "## 🔍 Problem Statement\n",
    "\n",
    "You are given an array of intervals where each interval is a pair of integers `[start, end]`, representing a range.\n",
    "\n",
    "Your task is to **merge all overlapping intervals** and return the resulting list of non-overlapping intervals.\n",
    "\n",
    "---\n",
    "\n",
    "## 🧠 Example\n",
    "\n",
    "**Input:**"
   ]
  },
  {
   "cell_type": "code",
   "execution_count": null,
   "id": "35c96073",
   "metadata": {},
   "outputs": [],
   "source": [
    "[[1, 3], [2, 6], [8, 10], [15, 18]]"
   ]
  },
  {
   "cell_type": "markdown",
   "id": "df21f0d9",
   "metadata": {},
   "source": [
    "**Output:**"
   ]
  },
  {
   "cell_type": "code",
   "execution_count": null,
   "id": "5b50d7bc",
   "metadata": {},
   "outputs": [],
   "source": [
    "[[1, 6], [8, 10], [15, 18]]"
   ]
  },
  {
   "cell_type": "markdown",
   "id": "89c93fb7",
   "metadata": {},
   "source": [
    "### Explanation:\n",
    "- [1, 3] and [2, 6] **overlap** → merge into [1, 6]\n",
    "- [8, 10] and [15, 18] have no overlaps\n"
   ]
  },
  {
   "cell_type": "markdown",
   "id": "15bff588",
   "metadata": {},
   "source": [
    "### Code"
   ]
  },
  {
   "cell_type": "code",
   "execution_count": 1,
   "id": "b8e4346e",
   "metadata": {},
   "outputs": [
    {
     "name": "stdout",
     "output_type": "stream",
     "text": [
      "[[1, 6], [8, 10], [15, 18]]\n"
     ]
    }
   ],
   "source": [
    "def merge_intervals(intervals):\n",
    "    if not intervals:\n",
    "        return []\n",
    "    \n",
    "    intervals.sort(key=lambda x: x[0])\n",
    "    \n",
    "    result = [intervals[0]]\n",
    "    \n",
    "    for i in range(1, len(intervals)):\n",
    "        prev = result[-1]\n",
    "        current = intervals[i]\n",
    "        \n",
    "        if current[0] <= prev[1]:\n",
    "            prev[1] = max(prev[1], current[1])\n",
    "        else:\n",
    "            result.append(current)\n",
    "            \n",
    "    return result\n",
    "    \n",
    "    \n",
    "print(merge_intervals([[1, 3], [2, 6], [8, 10], [15, 18]]))"
   ]
  },
  {
   "cell_type": "markdown",
   "id": "ea012901",
   "metadata": {},
   "source": [
    "### 🔍 Dry Run Example\n",
    "Given: `[[1,3], [2,6], [8,10], [15,18]]`\n",
    "\n",
    "Sort → `[[1,3], [2,6], [8,10], [15,18]]`\n",
    "\n",
    "Result starts with `[1,3]`\n",
    "\n",
    "Compare with `[2,6]` → overlap → merge → `[1,6]`\n",
    "\n",
    "`[8,10]` → no overlap → add\n",
    "\n",
    "`[15,18]` → no overlap → add\n",
    "\n",
    "✅ Final Output: `[[1,6], [8,10], [15,18]]`"
   ]
  }
 ],
 "metadata": {
  "kernelspec": {
   "display_name": ".venv",
   "language": "python",
   "name": "python3"
  },
  "language_info": {
   "codemirror_mode": {
    "name": "ipython",
    "version": 3
   },
   "file_extension": ".py",
   "mimetype": "text/x-python",
   "name": "python",
   "nbconvert_exporter": "python",
   "pygments_lexer": "ipython3",
   "version": "3.12.10"
  }
 },
 "nbformat": 4,
 "nbformat_minor": 5
}
