{
 "cells": [
  {
   "cell_type": "markdown",
   "metadata": {},
   "source": [
    "# Stack \n",
    "\n",
    "- A stack is a linear data structure that follows the principle of **Last In First Out (LIFO)**.\n",
    "- This means the last element inserted inside the stack is removed first.\n",
    "\n",
    "**Working of Stack Data Structure**\n",
    "- A pointer called **TOP** is used to keep track of the top element in the stack.\n",
    "- When initializing the stack, we set its value to -1 so that we can check if the stack is empty by comparing `TOP == -1`.\n",
    "- On pushing an element, we increase the value of TOP and place the new element in the position pointed to by TOP.\n",
    "- On popping an element, we return the element pointed to by TOP and reduce its value.\n",
    "- Before pushing, we check if the stack is already full.\n",
    "- Before popping, we check if the stack is already empty.\n",
    "\n",
    "\n",
    "[Also Visit for Python Stacks](https://realpython.com/how-to-implement-python-stack/#implementing-a-python-stack)"
   ]
  },
  {
   "cell_type": "code",
   "execution_count": null,
   "metadata": {
    "vscode": {
     "languageId": "plaintext"
    }
   },
   "outputs": [],
   "source": [
    "class Stack:\n",
    "    def __init__(self, size):\n",
    "        self.arr = [None] * size \n",
    "        self.capacity = size   \n",
    "        self.top = -1      \n",
    "\n",
    "    def push(self, x):\n",
    "        if self.is_full():\n",
    "            print(\"Overflow\\nProgram Terminated\")\n",
    "            return\n",
    "\n",
    "        print(f\"Inserting {x}\")\n",
    "        self.top += 1\n",
    "        self.arr[self.top] = x\n",
    "\n",
    "    def pop(self):\n",
    "        if self.is_empty():\n",
    "            print(\"STACK EMPTY\")\n",
    "            return None \n",
    "\n",
    "        popped_item = self.arr[self.top]\n",
    "        self.top -= 1\n",
    "        return popped_item\n",
    "\n",
    "    def size(self):\n",
    "        return self.top + 1\n",
    "\n",
    "    def is_empty(self):\n",
    "        return self.top == -1\n",
    "\n",
    "    def is_full(self):\n",
    "        return self.top == self.capacity - 1\n",
    "\n",
    "    def print_stack(self):\n",
    "        if self.is_empty():\n",
    "            print(\"Stack is empty\")\n",
    "        else:\n",
    "            print(\"Stack elements from bottom to top:\")\n",
    "            for i in range(self.top + 1):\n",
    "                print(self.arr[i])\n",
    "\n",
    "if __name__ == \"__main__\":\n",
    "    stack = Stack(5)\n",
    "\n",
    "    stack.push(1)\n",
    "    stack.push(2)\n",
    "    stack.push(3)\n",
    "    stack.push(4)\n",
    "\n",
    "    stack.pop()\n",
    "    print(\"\\nAfter popping out\")\n",
    "\n",
    "    stack.print_stack()\n"
   ]
  }
 ],
 "metadata": {
  "language_info": {
   "name": "python"
  }
 },
 "nbformat": 4,
 "nbformat_minor": 2
}
